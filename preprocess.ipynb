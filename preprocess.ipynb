{
 "cells": [
  {
   "cell_type": "code",
   "execution_count": 3,
   "id": "5655d3de",
   "metadata": {},
   "outputs": [],
   "source": [
    "import pandas as pd\n",
    "\n",
    "df = pd.read_csv(\"./data/curData.csv\")"
   ]
  },
  {
   "cell_type": "code",
   "execution_count": 11,
   "id": "932bc3cb",
   "metadata": {},
   "outputs": [],
   "source": [
    "df = df.drop([\"Unnamed: 0.1\", \"Unnamed: 0\"], axis=1)"
   ]
  },
  {
   "cell_type": "code",
   "execution_count": 12,
   "id": "04426088",
   "metadata": {},
   "outputs": [
    {
     "name": "stdout",
     "output_type": "stream",
     "text": [
      "loan_amnt :  float64\n",
      "term :  float64\n",
      "int_rate :  float64\n",
      "installment :  float64\n",
      "purpose :  object\n",
      "emp_length :  int64\n",
      "home_ownership :  object\n",
      "annual_inc :  float64\n",
      "dti :  float64\n",
      "inq_last_6mths :  float64\n",
      "delinq_2yrs :  float64\n",
      "open_acc :  float64\n",
      "pub_rec :  float64\n",
      "revol_bal :  float64\n",
      "revol_util :  float64\n",
      "total_acc :  float64\n",
      "issue_d :  object\n",
      "loan_risk :  int64\n",
      "installment_to_income :  float64\n",
      "fico_score :  float64\n",
      "credit_age :  float64\n",
      "issue_month :  object\n",
      "fed_funds_rate :  float64\n",
      "unemployment_rate :  float64\n",
      "cpi :  float64\n",
      "real_gdp :  float64\n",
      "debt_service_ratio :  float64\n"
     ]
    }
   ],
   "source": [
    "for col in df.columns:\n",
    "    print(col, \": \", df[col].dtype)"
   ]
  },
  {
   "cell_type": "code",
   "execution_count": 21,
   "id": "98d97aa3",
   "metadata": {},
   "outputs": [
    {
     "data": {
      "text/plain": [
       "array([0, 1])"
      ]
     },
     "execution_count": 21,
     "metadata": {},
     "output_type": "execute_result"
    }
   ],
   "source": [
    "import math\n",
    "import numpy as np\n",
    "\n",
    "ml_df = df.drop([\"issue_d\", \"issue_month\"], axis=1)\n",
    "ml_df[\"loan_to_income\"] = ml_df[\"loan_amnt\"] / np.maximum(df[\"annual_inc\"], 1)\n",
    "ml_df[\"installment_to_loan\"] = ml_df[\"installment\"] / ml_df[\"loan_amnt\"]\n",
    "ml_df[\"annual_inc_log\"] = np.log1p(ml_df[\"annual_inc\"])\n",
    "ml_df[\"rate_term\"] = ml_df[\"int_rate\"] * ml_df[\"term\"]\n",
    "\n",
    "ml_df[\"loan_risk\"].unique()"
   ]
  },
  {
   "cell_type": "code",
   "execution_count": null,
   "id": "c79c11f3",
   "metadata": {},
   "outputs": [
    {
     "data": {
      "text/plain": [
       "['loan_amnt',\n",
       " 'term',\n",
       " 'int_rate',\n",
       " 'installment',\n",
       " 'purpose',\n",
       " 'emp_length',\n",
       " 'home_ownership',\n",
       " 'annual_inc',\n",
       " 'dti',\n",
       " 'inq_last_6mths',\n",
       " 'delinq_2yrs',\n",
       " 'open_acc',\n",
       " 'pub_rec',\n",
       " 'revol_bal',\n",
       " 'revol_util',\n",
       " 'total_acc',\n",
       " 'loan_risk',\n",
       " 'installment_to_income',\n",
       " 'fico_score',\n",
       " 'credit_age',\n",
       " 'fed_funds_rate',\n",
       " 'unemployment_rate',\n",
       " 'cpi',\n",
       " 'real_gdp',\n",
       " 'debt_service_ratio']"
      ]
     },
     "execution_count": 18,
     "metadata": {},
     "output_type": "execute_result"
    }
   ],
   "source": [
    "ml_features = list(ml_df.columns)\n",
    "input_features = ml_features"
   ]
  },
  {
   "cell_type": "code",
   "execution_count": 32,
   "id": "359c1779",
   "metadata": {},
   "outputs": [],
   "source": [
    "# Split into Train, Val, Test based on time (oldest -> recent)\n",
    "ml_df[\"date\"] = pd.to_datetime(df[\"issue_d\"])\n",
    "ml_df = ml_df.sort_values(\"date\").reset_index(drop=True)\n",
    "\n",
    "# Change as needed\n",
    "train_frac = 0.8\n",
    "val_frac = 0.1\n",
    "test_frac = 0.1\n",
    "\n",
    "n = len(ml_df)\n",
    "train_n = int(train_frac * n)\n",
    "val_n = int(val_frac * n)\n",
    "\n",
    "train_df = df.iloc[:train_n] # First rows for training\n",
    "val_df = df.iloc[train_n : train_n + val_n] # Next 0.1 for validation\n",
    "test_df = df.iloc[train_n + val_n:] # Last for testing"
   ]
  },
  {
   "cell_type": "code",
   "execution_count": 35,
   "id": "53709539",
   "metadata": {},
   "outputs": [
    {
     "name": "stdout",
     "output_type": "stream",
     "text": [
      "1808534 226066 226068\n",
      "loan_risk\n",
      "0    1580265\n",
      "1     228269\n",
      "Name: count, dtype: int64 loan_risk\n",
      "0    188951\n",
      "1     37115\n",
      "Name: count, dtype: int64 loan_risk\n",
      "0    200625\n",
      "1     25443\n",
      "Name: count, dtype: int64\n"
     ]
    }
   ],
   "source": [
    "print(len(train_df), len(val_df), len(test_df))\n",
    "print(train_df[\"loan_risk\"].value_counts(), val_df[\"loan_risk\"].value_counts(), test_df[\"loan_risk\"].value_counts())"
   ]
  },
  {
   "cell_type": "code",
   "execution_count": 36,
   "id": "cef97d9b",
   "metadata": {},
   "outputs": [],
   "source": [
    "train_df.to_csv(\"./data/train.csv\")\n",
    "val_df.to_csv(\"./data/val.csv\")\n",
    "test_df.to_csv(\"./data/test.csv\")"
   ]
  }
 ],
 "metadata": {
  "kernelspec": {
   "display_name": "loan-risk",
   "language": "python",
   "name": "python3"
  },
  "language_info": {
   "codemirror_mode": {
    "name": "ipython",
    "version": 3
   },
   "file_extension": ".py",
   "mimetype": "text/x-python",
   "name": "python",
   "nbconvert_exporter": "python",
   "pygments_lexer": "ipython3",
   "version": "3.13.1"
  }
 },
 "nbformat": 4,
 "nbformat_minor": 5
}
